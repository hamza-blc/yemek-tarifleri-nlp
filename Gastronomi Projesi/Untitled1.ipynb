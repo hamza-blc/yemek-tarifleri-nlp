{
 "cells": [
  {
   "cell_type": "code",
   "execution_count": 5,
   "id": "9b6821be-1d7f-4075-8d70-ffc87937d976",
   "metadata": {},
   "outputs": [
    {
     "name": "stdout",
     "output_type": "stream",
     "text": [
      "Defaulting to user installation because normal site-packages is not writeable\n",
      "Requirement already satisfied: pandas in c:\\users\\insanazor\\anaconda3\\lib\\site-packages (2.2.2)\n",
      "Requirement already satisfied: numpy>=1.26.0 in c:\\users\\İnsanazor\\appdata\\roaming\\python\\python312\\site-packages (from pandas) (1.26.4)\n",
      "Requirement already satisfied: python-dateutil>=2.8.2 in c:\\users\\insanazor\\anaconda3\\lib\\site-packages (from pandas) (2.9.0.post0)\n",
      "Requirement already satisfied: pytz>=2020.1 in c:\\users\\insanazor\\anaconda3\\lib\\site-packages (from pandas) (2024.1)\n",
      "Requirement already satisfied: tzdata>=2022.7 in c:\\users\\insanazor\\anaconda3\\lib\\site-packages (from pandas) (2023.3)\n",
      "Requirement already satisfied: six>=1.5 in c:\\users\\insanazor\\anaconda3\\lib\\site-packages (from python-dateutil>=2.8.2->pandas) (1.16.0)\n",
      "Note: you may need to restart the kernel to use updated packages.\n"
     ]
    }
   ],
   "source": [
    "pip install pandas"
   ]
  },
  {
   "cell_type": "code",
   "execution_count": 7,
   "id": "ea0578e7-c1af-458b-8f7e-8c99ed8baa20",
   "metadata": {},
   "outputs": [
    {
     "name": "stdout",
     "output_type": "stream",
     "text": [
      "Defaulting to user installation because normal site-packages is not writeable\n",
      "Requirement already satisfied: matplotlib in c:\\users\\insanazor\\anaconda3\\lib\\site-packages (3.9.2)\n",
      "Requirement already satisfied: contourpy>=1.0.1 in c:\\users\\insanazor\\anaconda3\\lib\\site-packages (from matplotlib) (1.2.0)\n",
      "Requirement already satisfied: cycler>=0.10 in c:\\users\\insanazor\\anaconda3\\lib\\site-packages (from matplotlib) (0.11.0)\n",
      "Requirement already satisfied: fonttools>=4.22.0 in c:\\users\\insanazor\\anaconda3\\lib\\site-packages (from matplotlib) (4.51.0)\n",
      "Requirement already satisfied: kiwisolver>=1.3.1 in c:\\users\\insanazor\\anaconda3\\lib\\site-packages (from matplotlib) (1.4.4)\n",
      "Requirement already satisfied: numpy>=1.23 in c:\\users\\İnsanazor\\appdata\\roaming\\python\\python312\\site-packages (from matplotlib) (1.26.4)\n",
      "Requirement already satisfied: packaging>=20.0 in c:\\users\\insanazor\\anaconda3\\lib\\site-packages (from matplotlib) (24.1)\n",
      "Requirement already satisfied: pillow>=8 in c:\\users\\insanazor\\anaconda3\\lib\\site-packages (from matplotlib) (10.4.0)\n",
      "Requirement already satisfied: pyparsing>=2.3.1 in c:\\users\\insanazor\\anaconda3\\lib\\site-packages (from matplotlib) (3.1.2)\n",
      "Requirement already satisfied: python-dateutil>=2.7 in c:\\users\\insanazor\\anaconda3\\lib\\site-packages (from matplotlib) (2.9.0.post0)\n",
      "Requirement already satisfied: six>=1.5 in c:\\users\\insanazor\\anaconda3\\lib\\site-packages (from python-dateutil>=2.7->matplotlib) (1.16.0)\n",
      "Note: you may need to restart the kernel to use updated packages.\n"
     ]
    }
   ],
   "source": [
    "pip install matplotlib"
   ]
  },
  {
   "cell_type": "code",
   "execution_count": 9,
   "id": "bfea519c-45f9-4602-b1ff-5e4114d959ab",
   "metadata": {},
   "outputs": [
    {
     "name": "stdout",
     "output_type": "stream",
     "text": [
      "Defaulting to user installation because normal site-packages is not writeable\n",
      "Requirement already satisfied: seaborn in c:\\users\\insanazor\\anaconda3\\lib\\site-packages (0.13.2)\n",
      "Requirement already satisfied: numpy!=1.24.0,>=1.20 in c:\\users\\İnsanazor\\appdata\\roaming\\python\\python312\\site-packages (from seaborn) (1.26.4)\n",
      "Requirement already satisfied: pandas>=1.2 in c:\\users\\insanazor\\anaconda3\\lib\\site-packages (from seaborn) (2.2.2)\n",
      "Requirement already satisfied: matplotlib!=3.6.1,>=3.4 in c:\\users\\insanazor\\anaconda3\\lib\\site-packages (from seaborn) (3.9.2)\n",
      "Requirement already satisfied: contourpy>=1.0.1 in c:\\users\\insanazor\\anaconda3\\lib\\site-packages (from matplotlib!=3.6.1,>=3.4->seaborn) (1.2.0)\n",
      "Requirement already satisfied: cycler>=0.10 in c:\\users\\insanazor\\anaconda3\\lib\\site-packages (from matplotlib!=3.6.1,>=3.4->seaborn) (0.11.0)\n",
      "Requirement already satisfied: fonttools>=4.22.0 in c:\\users\\insanazor\\anaconda3\\lib\\site-packages (from matplotlib!=3.6.1,>=3.4->seaborn) (4.51.0)\n",
      "Requirement already satisfied: kiwisolver>=1.3.1 in c:\\users\\insanazor\\anaconda3\\lib\\site-packages (from matplotlib!=3.6.1,>=3.4->seaborn) (1.4.4)\n",
      "Requirement already satisfied: packaging>=20.0 in c:\\users\\insanazor\\anaconda3\\lib\\site-packages (from matplotlib!=3.6.1,>=3.4->seaborn) (24.1)\n",
      "Requirement already satisfied: pillow>=8 in c:\\users\\insanazor\\anaconda3\\lib\\site-packages (from matplotlib!=3.6.1,>=3.4->seaborn) (10.4.0)\n",
      "Requirement already satisfied: pyparsing>=2.3.1 in c:\\users\\insanazor\\anaconda3\\lib\\site-packages (from matplotlib!=3.6.1,>=3.4->seaborn) (3.1.2)\n",
      "Requirement already satisfied: python-dateutil>=2.7 in c:\\users\\insanazor\\anaconda3\\lib\\site-packages (from matplotlib!=3.6.1,>=3.4->seaborn) (2.9.0.post0)\n",
      "Requirement already satisfied: pytz>=2020.1 in c:\\users\\insanazor\\anaconda3\\lib\\site-packages (from pandas>=1.2->seaborn) (2024.1)\n",
      "Requirement already satisfied: tzdata>=2022.7 in c:\\users\\insanazor\\anaconda3\\lib\\site-packages (from pandas>=1.2->seaborn) (2023.3)\n",
      "Requirement already satisfied: six>=1.5 in c:\\users\\insanazor\\anaconda3\\lib\\site-packages (from python-dateutil>=2.7->matplotlib!=3.6.1,>=3.4->seaborn) (1.16.0)\n",
      "Note: you may need to restart the kernel to use updated packages.\n"
     ]
    }
   ],
   "source": [
    "pip install seaborn"
   ]
  },
  {
   "cell_type": "code",
   "execution_count": 11,
   "id": "c7dd55df-039e-49c4-808f-064ce720c382",
   "metadata": {},
   "outputs": [
    {
     "name": "stdout",
     "output_type": "stream",
     "text": [
      "Defaulting to user installation because normal site-packages is not writeable\n",
      "Requirement already satisfied: scikit-learn in c:\\users\\insanazor\\anaconda3\\lib\\site-packages (1.5.1)\n",
      "Requirement already satisfied: numpy>=1.19.5 in c:\\users\\İnsanazor\\appdata\\roaming\\python\\python312\\site-packages (from scikit-learn) (1.26.4)\n",
      "Requirement already satisfied: scipy>=1.6.0 in c:\\users\\İnsanazor\\appdata\\roaming\\python\\python312\\site-packages (from scikit-learn) (1.13.1)\n",
      "Requirement already satisfied: joblib>=1.2.0 in c:\\users\\İnsanazor\\appdata\\roaming\\python\\python312\\site-packages (from scikit-learn) (1.5.0)\n",
      "Requirement already satisfied: threadpoolctl>=3.1.0 in c:\\users\\insanazor\\anaconda3\\lib\\site-packages (from scikit-learn) (3.5.0)\n",
      "Note: you may need to restart the kernel to use updated packages.\n"
     ]
    }
   ],
   "source": [
    "pip install scikit-learn"
   ]
  },
  {
   "cell_type": "code",
   "execution_count": 13,
   "id": "e188cc90-ac6f-410f-8942-348482f0ccc4",
   "metadata": {},
   "outputs": [
    {
     "name": "stdout",
     "output_type": "stream",
     "text": [
      "Defaulting to user installation because normal site-packages is not writeable\n",
      "Requirement already satisfied: gensim in c:\\users\\İnsanazor\\appdata\\roaming\\python\\python312\\site-packages (4.3.3)\n",
      "Requirement already satisfied: numpy<2.0,>=1.18.5 in c:\\users\\İnsanazor\\appdata\\roaming\\python\\python312\\site-packages (from gensim) (1.26.4)\n",
      "Requirement already satisfied: scipy<1.14.0,>=1.7.0 in c:\\users\\İnsanazor\\appdata\\roaming\\python\\python312\\site-packages (from gensim) (1.13.1)\n",
      "Requirement already satisfied: smart-open>=1.8.1 in c:\\users\\İnsanazor\\appdata\\roaming\\python\\python312\\site-packages (from gensim) (7.1.0)\n",
      "Requirement already satisfied: wrapt in c:\\users\\İnsanazor\\appdata\\roaming\\python\\python312\\site-packages (from smart-open>=1.8.1->gensim) (1.17.2)\n",
      "Note: you may need to restart the kernel to use updated packages.\n"
     ]
    }
   ],
   "source": [
    "pip install gensim"
   ]
  },
  {
   "cell_type": "code",
   "execution_count": 15,
   "id": "6190c047-e421-4ad8-89c6-f8a3a9d20b34",
   "metadata": {},
   "outputs": [
    {
     "name": "stdout",
     "output_type": "stream",
     "text": [
      "Defaulting to user installation because normal site-packages is not writeable\n",
      "Requirement already satisfied: nltk in c:\\users\\İnsanazor\\appdata\\roaming\\python\\python312\\site-packages (3.9.1)\n",
      "Requirement already satisfied: click in c:\\users\\İnsanazor\\appdata\\roaming\\python\\python312\\site-packages (from nltk) (8.1.8)\n",
      "Requirement already satisfied: joblib in c:\\users\\İnsanazor\\appdata\\roaming\\python\\python312\\site-packages (from nltk) (1.5.0)\n",
      "Requirement already satisfied: regex>=2021.8.3 in c:\\users\\İnsanazor\\appdata\\roaming\\python\\python312\\site-packages (from nltk) (2024.11.6)\n",
      "Requirement already satisfied: tqdm in c:\\users\\İnsanazor\\appdata\\roaming\\python\\python312\\site-packages (from nltk) (4.67.1)\n",
      "Requirement already satisfied: colorama in c:\\users\\İnsanazor\\appdata\\roaming\\python\\python312\\site-packages (from click->nltk) (0.4.6)\n",
      "Note: you may need to restart the kernel to use updated packages.\n"
     ]
    }
   ],
   "source": [
    "pip install nltk"
   ]
  },
  {
   "cell_type": "code",
   "execution_count": 17,
   "id": "c495e42a-1cb5-4adf-9bc5-5e5f3c8f3f5e",
   "metadata": {},
   "outputs": [
    {
     "name": "stdout",
     "output_type": "stream",
     "text": [
      "Defaulting to user installation because normal site-packages is not writeable\n",
      "Requirement already satisfied: beautifulsoup4 in c:\\users\\insanazor\\anaconda3\\lib\\site-packages (4.12.3)\n",
      "Requirement already satisfied: soupsieve>1.2 in c:\\users\\insanazor\\anaconda3\\lib\\site-packages (from beautifulsoup4) (2.5)\n",
      "Note: you may need to restart the kernel to use updated packages.\n"
     ]
    }
   ],
   "source": [
    "pip install beautifulsoup4"
   ]
  },
  {
   "cell_type": "code",
   "execution_count": 19,
   "id": "80363699-4d02-4af6-8cb9-0c1a0a969a6a",
   "metadata": {},
   "outputs": [
    {
     "name": "stdout",
     "output_type": "stream",
     "text": [
      "Defaulting to user installation because normal site-packages is not writeable\n",
      "Requirement already satisfied: requests in c:\\users\\insanazor\\anaconda3\\lib\\site-packages (2.32.3)\n",
      "Requirement already satisfied: charset-normalizer<4,>=2 in c:\\users\\insanazor\\anaconda3\\lib\\site-packages (from requests) (3.3.2)\n",
      "Requirement already satisfied: idna<4,>=2.5 in c:\\users\\insanazor\\anaconda3\\lib\\site-packages (from requests) (3.7)\n",
      "Requirement already satisfied: urllib3<3,>=1.21.1 in c:\\users\\insanazor\\anaconda3\\lib\\site-packages (from requests) (2.2.3)\n",
      "Requirement already satisfied: certifi>=2017.4.17 in c:\\users\\insanazor\\anaconda3\\lib\\site-packages (from requests) (2025.4.26)\n",
      "Note: you may need to restart the kernel to use updated packages.\n"
     ]
    }
   ],
   "source": [
    "pip install requests"
   ]
  },
  {
   "cell_type": "code",
   "execution_count": 21,
   "id": "7cac94e6-0b9e-4cb2-8af4-acc74dd3936e",
   "metadata": {},
   "outputs": [
    {
     "name": "stdout",
     "output_type": "stream",
     "text": [
      "Defaulting to user installation because normal site-packages is not writeableNote: you may need to restart the kernel to use updated packages.\n",
      "\n",
      "Requirement already satisfied: lxml in c:\\users\\insanazor\\anaconda3\\lib\\site-packages (5.2.1)\n"
     ]
    }
   ],
   "source": [
    "pip install lxml"
   ]
  },
  {
   "cell_type": "code",
   "execution_count": 23,
   "id": "cce9816c-1054-42e7-9b6c-2c7dd2e9f368",
   "metadata": {},
   "outputs": [
    {
     "name": "stderr",
     "output_type": "stream",
     "text": [
      "[nltk_data] Downloading package punkt to\n",
      "[nltk_data]     C:\\Users\\İnsanazor\\AppData\\Roaming\\nltk_data...\n",
      "[nltk_data]   Package punkt is already up-to-date!\n",
      "[nltk_data] Downloading package stopwords to\n",
      "[nltk_data]     C:\\Users\\İnsanazor\\AppData\\Roaming\\nltk_data...\n",
      "[nltk_data]   Package stopwords is already up-to-date!\n",
      "[nltk_data] Downloading package wordnet to\n",
      "[nltk_data]     C:\\Users\\İnsanazor\\AppData\\Roaming\\nltk_data...\n",
      "[nltk_data]   Package wordnet is already up-to-date!\n",
      "[nltk_data] Downloading package omw-1.4 to\n",
      "[nltk_data]     C:\\Users\\İnsanazor\\AppData\\Roaming\\nltk_data...\n",
      "[nltk_data]   Package omw-1.4 is already up-to-date!\n"
     ]
    },
    {
     "data": {
      "text/plain": [
       "True"
      ]
     },
     "execution_count": 23,
     "metadata": {},
     "output_type": "execute_result"
    }
   ],
   "source": [
    "import nltk\n",
    "nltk.download('punkt')\n",
    "nltk.download('stopwords')\n",
    "nltk.download('wordnet')\n",
    "nltk.download('omw-1.4')"
   ]
  },
  {
   "cell_type": "code",
   "execution_count": 25,
   "id": "143bbb2f-ce9e-471f-a6d3-4a4d67cb732e",
   "metadata": {},
   "outputs": [
    {
     "name": "stdout",
     "output_type": "stream",
     "text": [
      "\n",
      "Tarif 1:\n",
      "Başlık: Yok\n",
      "Malzemeler: ['romaine lettuce', 'black olives', 'grape tomatoes', 'garlic', 'pepper', 'purple onion', 'seasoning', 'garbanzo beans', 'feta cheese crumbles']\n",
      "Talimatlar: Yok\n",
      "\n",
      "Tarif 2:\n",
      "Başlık: Yok\n",
      "Malzemeler: ['plain flour', 'ground pepper', 'salt', 'tomatoes', 'ground black pepper', 'thyme', 'eggs', 'green tomatoes', 'yellow corn meal', 'milk', 'vegetable oil']\n",
      "Talimatlar: Yok\n"
     ]
    }
   ],
   "source": [
    "# Bu kod parçası, train.json ve test.json adlı iki JSON dosyasını okur ve\n",
    "# her bir yemek tarifinin başlığını, malzemelerini ve talimatlarını ekrana yazdırır.\n",
    "# İlk 2 yemek tarifi gösterilmekte.\n",
    "\n",
    "import json\n",
    "import os\n",
    "\n",
    "# Dosya yolları\n",
    "train_path = os.path.expanduser(r\"data\\train.json\")\n",
    "test_path = os.path.expanduser(r\"data\\test.json\")\n",
    "\n",
    "# Dosyaları yükleme\n",
    "with open(train_path, \"r\", encoding=\"utf-8\") as f:\n",
    "    train_data = json.load(f)\n",
    "\n",
    "with open(test_path, \"r\", encoding=\"utf-8\") as f:\n",
    "    test_data = json.load(f)\n",
    "\n",
    "# İlk 2 örneği yazdırma kodu\n",
    "for i, recipe in enumerate(train_data[:2]):\n",
    "    print(f\"\\nTarif {i+1}:\")\n",
    "    print(\"Başlık:\", recipe.get(\"title\", \"Yok\"))\n",
    "    print(\"Malzemeler:\", recipe.get(\"ingredients\", \"Yok\"))\n",
    "    print(\"Talimatlar:\", recipe.get(\"instructions\", \"Yok\"))\n"
   ]
  },
  {
   "cell_type": "code",
   "execution_count": 27,
   "id": "d9b6e389-8007-4e73-8302-2e05020ebcb7",
   "metadata": {},
   "outputs": [
    {
     "name": "stdout",
     "output_type": "stream",
     "text": [
      "['romaine', 'lettuce', 'black', 'olive', 'grape', 'tomato', 'garlic', 'pepper', 'purple', 'onion', 'seasoning', 'garbanzo', 'bean', 'feta', 'cheese', 'crumbles']\n"
     ]
    }
   ],
   "source": [
    "# Bu kod, verilen yemek tarifinin malzeme listesini alır, metni işler \n",
    "# stopword'leri çıkarıp lemmatize ederek token'lar elde eder.\n",
    "\n",
    "import nltk\n",
    "from nltk.corpus import stopwords\n",
    "from nltk.stem import WordNetLemmatizer\n",
    "from nltk.tokenize import word_tokenize\n",
    "\n",
    "stop_words = set(stopwords.words(\"english\"))\n",
    "lemmatizer = WordNetLemmatizer()\n",
    "\n",
    "def preprocess(text):\n",
    "    tokens = word_tokenize(text.lower())  # Küçük harf ve tokenizasyon\n",
    "    tokens = [t for t in tokens if t.isalpha()]  # Sadece harflerden oluşanları al\n",
    "    tokens = [t for t in tokens if t not in stop_words]  # Stopword'leri çıkar\n",
    "    tokens = [lemmatizer.lemmatize(t) for t in tokens]  # Lemmatize et\n",
    "    return tokens\n",
    "\n",
    "# Örnek tarifin açıklaması\n",
    "example_ingredients = train_data[0][\"ingredients\"]\n",
    "joined_text = \" \".join(example_ingredients)\n",
    "processed_tokens = preprocess(joined_text)\n",
    "\n",
    "print(processed_tokens[:20])  # İlk 20 kelimeyi görelim\n"
   ]
  },
  {
   "cell_type": "code",
   "execution_count": 29,
   "id": "98f2e944-a203-467d-b971-1600a1b46f15",
   "metadata": {},
   "outputs": [
    {
     "name": "stdout",
     "output_type": "stream",
     "text": [
      "✔️ Lemmatized, stemmed ve ham veriler CSV olarak kaydedildi.\n"
     ]
    }
   ],
   "source": [
    "# Bu kod, yemek tariflerinin malzemelerini işleyerek her tarifin\n",
    "# farklı versiyonlarını oluşturur ve bunları CSV dosyalarına kaydeder.\n",
    "\n",
    "import pandas as pd\n",
    "from nltk.tokenize import word_tokenize\n",
    "from nltk.stem import WordNetLemmatizer, PorterStemmer\n",
    "from nltk.corpus import stopwords\n",
    "\n",
    "lemmatizer = WordNetLemmatizer()\n",
    "stemmer = PorterStemmer()\n",
    "stop_words = set(stopwords.words(\"english\"))\n",
    "\n",
    "def preprocess_all(data):\n",
    "    lemmatized_list = []\n",
    "    stemmed_list = []\n",
    "    raw_texts = []\n",
    "    \n",
    "    for recipe in data:\n",
    "        ingredients = recipe[\"ingredients\"]\n",
    "        text = \" \".join(ingredients)\n",
    "        raw_texts.append(text)\n",
    "        \n",
    "        tokens = word_tokenize(text.lower())\n",
    "        tokens = [t for t in tokens if t.isalpha()]\n",
    "        tokens = [t for t in tokens if t not in stop_words]\n",
    "        \n",
    "        lemmatized = [lemmatizer.lemmatize(t) for t in tokens]\n",
    "        stemmed = [stemmer.stem(t) for t in tokens]\n",
    "        \n",
    "        lemmatized_list.append(\" \".join(lemmatized))\n",
    "        stemmed_list.append(\" \".join(stemmed))\n",
    "        \n",
    "    return lemmatized_list, stemmed_list, raw_texts\n",
    "\n",
    "lemmatized_recipes, stemmed_recipes, raw_recipes = preprocess_all(train_data)\n",
    "\n",
    "# CSV kaydet\n",
    "pd.DataFrame({\"text\": lemmatized_recipes}).to_csv(\"lemmatized_data.csv\", index=False)\n",
    "pd.DataFrame({\"text\": stemmed_recipes}).to_csv(\"stemmed_data.csv\", index=False)\n",
    "pd.DataFrame({\"text\": raw_recipes}).to_csv(\"raw_data.csv\", index=False)\n",
    "\n",
    "print(\"✔️ Lemmatized, stemmed ve ham veriler CSV olarak kaydedildi.\")\n"
   ]
  },
  {
   "cell_type": "code",
   "execution_count": 31,
   "id": "c081efe9-951f-4fa5-be6a-eaab33ba68c9",
   "metadata": {},
   "outputs": [
    {
     "name": "stderr",
     "output_type": "stream",
     "text": [
      "[nltk_data] Downloading package wordnet to\n",
      "[nltk_data]     C:\\Users\\İnsanazor\\AppData\\Roaming\\nltk_data...\n",
      "[nltk_data]   Package wordnet is already up-to-date!\n",
      "[nltk_data] Downloading package omw-1.4 to\n",
      "[nltk_data]     C:\\Users\\İnsanazor\\AppData\\Roaming\\nltk_data...\n",
      "[nltk_data]   Package omw-1.4 is already up-to-date!\n"
     ]
    },
    {
     "data": {
      "image/png": "[encoded data removed]",
      "text/plain": [
       "<Figure size 1000x600 with 1 Axes>"
      ]
     },
     "metadata": {},
     "output_type": "display_data"
    },
    {
     "data": {
      "image/png": "[encoded data removed]",
      "text/plain": [
       "<Figure size 1000x600 with 1 Axes>"
      ]
     },
     "metadata": {},
     "output_type": "display_data"
    },
    {
     "data": {
      "image/png": "[encoded data removed]",
      "text/plain": [
       "<Figure size 1000x600 with 1 Axes>"
      ]
     },
     "metadata": {},
     "output_type": "display_data"
    }
   ],
   "source": [
    "# Bu kod, Zipf yasasına dayalı olarak farklı işlenmiş veri setlerinin frekanslarını görselleştirir.\n",
    "# Zipf yasası, en yaygın kelimelerin (ya da öğelerin) sıralamasının genellikle logaritmik bir dağılım gösterdiğini belirtir.\n",
    "\n",
    "import matplotlib.pyplot as plt\n",
    "from collections import Counter\n",
    "import numpy as np\n",
    "import pandas as pd\n",
    "from nltk.stem import WordNetLemmatizer, PorterStemmer\n",
    "import nltk\n",
    "\n",
    "nltk.download('wordnet')\n",
    "nltk.download('omw-1.4')\n",
    "\n",
    "# Veri yükle\n",
    "df = pd.read_json(r\"data/train.json\")\n",
    "df = df.head(500)\n",
    "ingredients = df['ingredients']\n",
    "all_ingredients = [ingredient.lower() for sublist in ingredients for ingredient in sublist]\n",
    "\n",
    "# Ham frekans\n",
    "raw_freq = Counter(all_ingredients)\n",
    "raw_common = raw_freq.most_common()\n",
    "raw_ranks = np.arange(1, len(raw_common) + 1)\n",
    "raw_freqs = np.array([freq for word, freq in raw_common])\n",
    "\n",
    "# Stem\n",
    "stemmer = PorterStemmer()\n",
    "stemmed_words = [stemmer.stem(word) for word in all_ingredients]\n",
    "stem_freq = Counter(stemmed_words)\n",
    "stem_common = stem_freq.most_common()\n",
    "stem_ranks = np.arange(1, len(stem_common) + 1)\n",
    "stem_freqs = np.array([freq for word, freq in stem_common])\n",
    "\n",
    "# Lemma\n",
    "lemmatizer = WordNetLemmatizer()\n",
    "lemmatized_words = [lemmatizer.lemmatize(word) for word in all_ingredients]\n",
    "lemma_freq = Counter(lemmatized_words)\n",
    "lemma_common = lemma_freq.most_common()\n",
    "lemma_ranks = np.arange(1, len(lemma_common) + 1)\n",
    "lemma_freqs = np.array([freq for word, freq in lemma_common])\n",
    "\n",
    "# Ham Zipf Grafiği\n",
    "plt.figure(figsize=(10, 6))\n",
    "plt.loglog(raw_ranks, raw_freqs, marker=\".\")\n",
    "plt.title(\"Zipf Yasası - Ham Kelimeler\")\n",
    "plt.xlabel(\"Kelime Sırası (log)\")\n",
    "plt.ylabel(\"Frekans (log)\")\n",
    "plt.grid(True)\n",
    "plt.tight_layout()\n",
    "plt.show()\n",
    "\n",
    "# Stem Zipf Grafiği\n",
    "plt.figure(figsize=(10, 6))\n",
    "plt.loglog(stem_ranks, stem_freqs, marker=\".\")\n",
    "plt.title(\"Zipf Yasası - Stem (Kök Bulma)\")\n",
    "plt.xlabel(\"Kelime Sırası (log)\")\n",
    "plt.ylabel(\"Frekans (log)\")\n",
    "plt.grid(True)\n",
    "plt.tight_layout()\n",
    "plt.show()\n",
    "\n",
    "# Lemma Zipf Grafiği\n",
    "plt.figure(figsize=(10, 6))\n",
    "plt.loglog(lemma_ranks, lemma_freqs, marker=\".\")\n",
    "plt.title(\"Zipf Yasası - Lemma (Kök + Anlam)\")\n",
    "plt.xlabel(\"Kelime Sırası (log)\")\n",
    "plt.ylabel(\"Frekans (log)\")\n",
    "plt.grid(True)\n",
    "plt.tight_layout()\n",
    "plt.show()\n"
   ]
  },
  {
   "cell_type": "code",
   "execution_count": 33,
   "id": "7b15fb8a-edb0-43ec-811f-c3656ab18121",
   "metadata": {},
   "outputs": [
    {
     "name": "stdout",
     "output_type": "stream",
     "text": [
      "Stop word removal:\n",
      "Önce: ['The', 'quick', 'brown', 'fox', 'jumps', 'over', 'the', 'lazy', 'dog']\n",
      "Sonra: ['quick', 'brown', 'fox', 'jumps', 'lazy', 'dog']\n"
     ]
    },
    {
     "name": "stderr",
     "output_type": "stream",
     "text": [
      "[nltk_data] Downloading package stopwords to\n",
      "[nltk_data]     C:\\Users\\İnsanazor\\AppData\\Roaming\\nltk_data...\n",
      "[nltk_data]   Package stopwords is already up-to-date!\n"
     ]
    }
   ],
   "source": [
    "# verilen bir metinden stopword temizleme işlemi yapar.\n",
    "\n",
    "import nltk\n",
    "from nltk.corpus import stopwords\n",
    "nltk.download('stopwords')\n",
    "\n",
    "# İngilizce stop word'leri al\n",
    "stop_words = set(stopwords.words('english'))\n",
    "\n",
    "# Örnek metin\n",
    "text = \"The quick brown fox jumps over the lazy dog\"\n",
    "tokens = text.split()  # Kelimelere ayır\n",
    "\n",
    "# Stop word'leri temizleme\n",
    "filtered_words = [word for word in tokens if word.lower() not in stop_words]\n",
    "\n",
    "print(\"Stop word removal:\")\n",
    "print(f\"Önce: {tokens}\")\n",
    "print(f\"Sonra: {filtered_words}\")\n"
   ]
  },
  {
   "cell_type": "code",
   "execution_count": 35,
   "id": "6b6cb6ad-f50a-4f4d-a6d9-190bb588c202",
   "metadata": {},
   "outputs": [
    {
     "name": "stdout",
     "output_type": "stream",
     "text": [
      "Tokenization:\n",
      "Önce: ['quick', 'brown', 'fox', 'jumps', 'lazy', 'dog']\n",
      "Sonra: ['quick', 'brown', 'fox', 'jumps', 'lazy', 'dog']\n"
     ]
    },
    {
     "name": "stderr",
     "output_type": "stream",
     "text": [
      "[nltk_data] Downloading package punkt to\n",
      "[nltk_data]     C:\\Users\\İnsanazor\\AppData\\Roaming\\nltk_data...\n",
      "[nltk_data]   Package punkt is already up-to-date!\n"
     ]
    }
   ],
   "source": [
    "# Daha önce stopword'leri çıkarılmış metni tokenize ederek, kelimelere ayırma işlemi yapar\n",
    "from nltk.tokenize import word_tokenize\n",
    "nltk.download('punkt')\n",
    "\n",
    "# Tokenize etme\n",
    "tokens = word_tokenize(\" \".join(filtered_words))\n",
    "\n",
    "print(\"Tokenization:\")\n",
    "print(f\"Önce: {filtered_words}\")\n",
    "print(f\"Sonra: {tokens}\")\n"
   ]
  },
  {
   "cell_type": "code",
   "execution_count": 37,
   "id": "dd7d930f-87fc-46c7-92aa-8956d9e1396a",
   "metadata": {},
   "outputs": [
    {
     "name": "stdout",
     "output_type": "stream",
     "text": [
      "Lowercasing:\n",
      "Önce: ['quick', 'brown', 'fox', 'jumps', 'lazy', 'dog']\n",
      "Sonra: ['quick', 'brown', 'fox', 'jumps', 'lazy', 'dog']\n"
     ]
    }
   ],
   "source": [
    "# Küçük harfe dönüştürme\n",
    "tokens_lower = [word.lower() for word in tokens]\n",
    "\n",
    "print(\"Lowercasing:\")\n",
    "print(f\"Önce: {tokens}\")\n",
    "print(f\"Sonra: {tokens_lower}\")\n"
   ]
  },
  {
   "cell_type": "code",
   "execution_count": 39,
   "id": "c984b7cf-a13f-452b-912c-1ab00745384b",
   "metadata": {},
   "outputs": [
    {
     "name": "stdout",
     "output_type": "stream",
     "text": [
      "Lemmatization:\n",
      "Önce: ['quick', 'brown', 'fox', 'jumps', 'lazy', 'dog']\n",
      "Sonra: ['quick', 'brown', 'fox', 'jump', 'lazy', 'dog']\n"
     ]
    }
   ],
   "source": [
    "from nltk.stem import WordNetLemmatizer\n",
    "lemmatizer = WordNetLemmatizer()\n",
    "\n",
    "# Lemmatize etme\n",
    "lemmatized_tokens = [lemmatizer.lemmatize(word) for word in tokens_lower]\n",
    "\n",
    "print(\"Lemmatization:\")\n",
    "print(f\"Önce: {tokens_lower}\")\n",
    "print(f\"Sonra: {lemmatized_tokens}\")\n"
   ]
  },
  {
   "cell_type": "code",
   "execution_count": 49,
   "id": "a45d9a02-3051-45aa-bfb0-698470a2165b",
   "metadata": {},
   "outputs": [
    {
     "name": "stdout",
     "output_type": "stream",
     "text": [
      "Stemming:\n",
      "Önce: ['quick', 'brown', 'fox', 'jumps', 'lazy', 'dog']\n",
      "Sonra: ['quick', 'brown', 'fox', 'jump', 'lazi', 'dog']\n"
     ]
    }
   ],
   "source": [
    "from nltk.stem import PorterStemmer\n",
    "stemmer = PorterStemmer()\n",
    "\n",
    "# Stem etme\n",
    "stemmed_tokens = [stemmer.stem(word) for word in tokens_lower]\n",
    "\n",
    "print(\"Stemming:\")\n",
    "print(f\"Önce: {tokens_lower}\")\n",
    "print(f\"Sonra: {stemmed_tokens}\")\n"
   ]
  },
  {
   "cell_type": "code",
   "execution_count": 51,
   "id": "f7ef233a-0fbe-4b51-a0b6-d8d9807606e5",
   "metadata": {},
   "outputs": [
    {
     "name": "stdout",
     "output_type": "stream",
     "text": [
      "HTML Etiket Temizleme:\n",
      "Önce: <html><body>This is a <b>test</b> text.</body></html>\n",
      "Sonra: This is a test text.\n"
     ]
    }
   ],
   "source": [
    "# BeautifulSoup kullanarak HTML etiketlerini temizler ve sadece metin içeriğini çıkarır.\n",
    "\n",
    "from bs4 import BeautifulSoup\n",
    "\n",
    "# HTML etiketlerini temizleme (örneğin bir metnin içinde varsa)\n",
    "text_with_html = \"<html><body>This is a <b>test</b> text.</body></html>\"\n",
    "soup = BeautifulSoup(text_with_html, \"html.parser\")\n",
    "clean_text = soup.get_text()\n",
    "\n",
    "print(\"HTML Etiket Temizleme:\")\n",
    "print(f\"Önce: {text_with_html}\")\n",
    "print(f\"Sonra: {clean_text}\")\n"
   ]
  },
  {
   "cell_type": "code",
   "execution_count": 81,
   "id": "96d4e082-c7fa-4821-9544-9bb8a6101c4d",
   "metadata": {},
   "outputs": [
    {
     "name": "stdout",
     "output_type": "stream",
     "text": [
      "Orijinal veri boyutu (kelime sayısı): 28\n",
      "Stemmed veri boyutu (kelime sayısı): 28\n",
      "Lemmatized veri boyutu (kelime sayısı): 28\n",
      "Stemmed işleminde çıkarılan kelimeler: 0\n",
      "Lemmatized işleminde çıkarılan kelimeler: 0\n"
     ]
    },
    {
     "name": "stderr",
     "output_type": "stream",
     "text": [
      "[nltk_data] Downloading package punkt to\n",
      "[nltk_data]     C:\\Users\\İnsanazor\\AppData\\Roaming\\nltk_data...\n",
      "[nltk_data]   Package punkt is already up-to-date!\n",
      "[nltk_data] Downloading package wordnet to\n",
      "[nltk_data]     C:\\Users\\İnsanazor\\AppData\\Roaming\\nltk_data...\n",
      "[nltk_data]   Package wordnet is already up-to-date!\n"
     ]
    }
   ],
   "source": [
    "# Bu kod, verilen ingredients listesi üzerinde\n",
    "# tokenization, stemming ve lemmatization işlemleri gerçekleştiriyor \n",
    "# bu işlemler sonrası kelime sayılarındaki değişimi hesaplıyor. \n",
    "\n",
    "import nltk\n",
    "from nltk.stem import PorterStemmer, WordNetLemmatizer\n",
    "from nltk.tokenize import word_tokenize\n",
    "\n",
    "nltk.download('punkt')\n",
    "nltk.download('wordnet')\n",
    "\n",
    "# Bu senin tarif listelerin (dilersen kendi verinle değiştir)\n",
    "ingredients = [\n",
    "    \"1 cup of chopped tomatoes and 2 tablespoons of olive oil\",\n",
    "    \"freshly ground black pepper and salt to taste\",\n",
    "    \"3 cloves of garlic minced and 1 onion chopped\"\n",
    "]\n",
    "\n",
    "tokenized_ingredients = [word_tokenize(ingredient.lower()) for ingredient in ingredients]\n",
    "\n",
    "stemmer = PorterStemmer()\n",
    "lemmatizer = WordNetLemmatizer()\n",
    "\n",
    "stemmed_ingredients = [[stemmer.stem(word) for word in ingredient] for ingredient in tokenized_ingredients]\n",
    "lemmatized_ingredients = [[lemmatizer.lemmatize(word) for word in ingredient] for ingredient in tokenized_ingredients]\n",
    "\n",
    "# Orijinal veri setindeki toplam kelime sayısı\n",
    "original_word_count = sum([len(ingredient) for ingredient in tokenized_ingredients])\n",
    "\n",
    "# Stemmed ve Lemmatized veri setlerindeki toplam kelime sayısı\n",
    "stemmed_word_count = sum([len(ingredient) for ingredient in stemmed_ingredients])\n",
    "lemmatized_word_count = sum([len(ingredient) for ingredient in lemmatized_ingredients])\n",
    "\n",
    "print(f\"Orijinal veri boyutu (kelime sayısı): {original_word_count}\")\n",
    "print(f\"Stemmed veri boyutu (kelime sayısı): {stemmed_word_count}\")\n",
    "print(f\"Lemmatized veri boyutu (kelime sayısı): {lemmatized_word_count}\")\n",
    "\n",
    "# Ne kadar veri çıkarıldığını hesapla\n",
    "print(f\"Stemmed işleminde çıkarılan kelimeler: {original_word_count - stemmed_word_count}\")\n",
    "print(f\"Lemmatized işleminde çıkarılan kelimeler: {original_word_count - lemmatized_word_count}\")\n"
   ]
  },
  {
   "cell_type": "code",
   "execution_count": 83,
   "id": "51be4279-0984-483b-aa91-4e4869068088",
   "metadata": {},
   "outputs": [
    {
     "name": "stderr",
     "output_type": "stream",
     "text": [
      "[nltk_data] Downloading package stopwords to\n",
      "[nltk_data]     C:\\Users\\İnsanazor\\AppData\\Roaming\\nltk_data...\n",
      "[nltk_data]   Package stopwords is already up-to-date!\n"
     ]
    }
   ],
   "source": [
    "# metin verisi üzerinde TF-IDF vektörleştirme işlemi yapmak için gerekli olan kütüphaneleri ve adımları var.\n",
    "\n",
    "import pandas as pd\n",
    "from sklearn.feature_extraction.text import TfidfVectorizer\n",
    "import nltk\n",
    "nltk.download('stopwords')\n",
    "from nltk.corpus import stopwords\n"
   ]
  },
  {
   "cell_type": "code",
   "execution_count": 85,
   "id": "c9f6a174-a610-4fef-a9fd-64f4074473a0",
   "metadata": {},
   "outputs": [
    {
     "name": "stdout",
     "output_type": "stream",
     "text": [
      "TF-IDF işlemi başarıyla tamamlandı ve dosyalar kaydedildi!\n"
     ]
    }
   ],
   "source": [
    "# Veri al işle\n",
    "df = pd.read_json(\"data/train.json\")\n",
    "df = df.head(500)  # Örnek olarak sadece ilk 500 satırla çalışalım\n",
    "ingredients = df['ingredients']\n",
    "\n",
    "# Lemmatization ve Stemming işlemleri\n",
    "from nltk.stem import PorterStemmer, WordNetLemmatizer\n",
    "\n",
    "stemmer = PorterStemmer()\n",
    "stemmed_ingredients = [\n",
    "    ' '.join([stemmer.stem(word) for word in ingredient]) for ingredient in ingredients\n",
    "]\n",
    "\n",
    "lemmatizer = WordNetLemmatizer()\n",
    "lemmatized_ingredients = [\n",
    "    ' '.join([lemmatizer.lemmatize(word) for word in ingredient]) for ingredient in ingredients\n",
    "]\n",
    "\n",
    "# Stopwords'i yükle\n",
    "stop_words = stopwords.words('english')\n",
    "\n",
    "# TF-IDF için vektörleştirme işlemi\n",
    "def vectorize_data(data):\n",
    "    tfidf_vectorizer = TfidfVectorizer(stop_words=stop_words)\n",
    "    tfidf_matrix = tfidf_vectorizer.fit_transform(data)\n",
    "    return pd.DataFrame(tfidf_matrix.toarray(), columns=tfidf_vectorizer.get_feature_names_out())\n",
    "\n",
    "# Lemmatized ve Stemmed veriler için TF-IDF hesaplama\n",
    "tfidf_lemmatized = vectorize_data(lemmatized_ingredients)\n",
    "tfidf_stemmed = vectorize_data(stemmed_ingredients)\n",
    "\n",
    "# Sonuçları CSV dosyasına kaydetme\n",
    "tfidf_lemmatized.to_csv('data/tfidf_lemmatized.csv', index=False)\n",
    "tfidf_stemmed.to_csv('data/tfidf_stemmed.csv', index=False)\n",
    "\n",
    "print(\"TF-IDF işlemi başarıyla tamamlandı ve dosyalar kaydedildi!\")\n"
   ]
  },
  {
   "cell_type": "code",
   "execution_count": 87,
   "id": "177dec57-7be8-4347-b6da-99106c4b3143",
   "metadata": {},
   "outputs": [
    {
     "name": "stdout",
     "output_type": "stream",
     "text": [
      "Defaulting to user installation because normal site-packages is not writeable\n",
      "Requirement already satisfied: gensim in c:\\users\\İnsanazor\\appdata\\roaming\\python\\python312\\site-packages (4.3.3)\n",
      "Requirement already satisfied: nltk in c:\\users\\İnsanazor\\appdata\\roaming\\python\\python312\\site-packages (3.9.1)\n",
      "Requirement already satisfied: numpy<2.0,>=1.18.5 in c:\\users\\İnsanazor\\appdata\\roaming\\python\\python312\\site-packages (from gensim) (1.26.4)\n",
      "Requirement already satisfied: scipy<1.14.0,>=1.7.0 in c:\\users\\İnsanazor\\appdata\\roaming\\python\\python312\\site-packages (from gensim) (1.13.1)\n",
      "Requirement already satisfied: smart-open>=1.8.1 in c:\\users\\İnsanazor\\appdata\\roaming\\python\\python312\\site-packages (from gensim) (7.1.0)\n",
      "Requirement already satisfied: click in c:\\users\\İnsanazor\\appdata\\roaming\\python\\python312\\site-packages (from nltk) (8.1.8)\n",
      "Requirement already satisfied: joblib in c:\\users\\İnsanazor\\appdata\\roaming\\python\\python312\\site-packages (from nltk) (1.5.0)\n",
      "Requirement already satisfied: regex>=2021.8.3 in c:\\users\\İnsanazor\\appdata\\roaming\\python\\python312\\site-packages (from nltk) (2024.11.6)\n",
      "Requirement already satisfied: tqdm in c:\\users\\İnsanazor\\appdata\\roaming\\python\\python312\\site-packages (from nltk) (4.67.1)\n",
      "Requirement already satisfied: wrapt in c:\\users\\İnsanazor\\appdata\\roaming\\python\\python312\\site-packages (from smart-open>=1.8.1->gensim) (1.17.2)\n",
      "Requirement already satisfied: colorama in c:\\users\\İnsanazor\\appdata\\roaming\\python\\python312\\site-packages (from click->nltk) (0.4.6)\n",
      "Note: you may need to restart the kernel to use updated packages.\n"
     ]
    }
   ],
   "source": [
    "pip install gensim nltk\n"
   ]
  },
  {
   "cell_type": "code",
   "execution_count": 81,
   "id": "2e36dc8f-55d0-4b6a-8e3a-0ea45d56381c",
   "metadata": {},
   "outputs": [
    {
     "name": "stdout",
     "output_type": "stream",
     "text": [
      "Defaulting to user installation because normal site-packages is not writeableNote: you may need to restart the kernel to use updated packages.\n",
      "\n",
      "Requirement already satisfied: gensim in c:\\users\\insanazor\\anaconda3\\lib\\site-packages (4.3.3)\n",
      "Requirement already satisfied: nltk in c:\\users\\insanazor\\anaconda3\\lib\\site-packages (3.9.1)\n",
      "Requirement already satisfied: numpy<2.0,>=1.18.5 in c:\\users\\insanazor\\anaconda3\\lib\\site-packages (from gensim) (1.26.4)\n",
      "Requirement already satisfied: scipy<1.14.0,>=1.7.0 in c:\\users\\insanazor\\anaconda3\\lib\\site-packages (from gensim) (1.13.1)\n",
      "Requirement already satisfied: smart-open>=1.8.1 in c:\\users\\insanazor\\anaconda3\\lib\\site-packages (from gensim) (5.2.1)\n",
      "Requirement already satisfied: click in c:\\users\\insanazor\\anaconda3\\lib\\site-packages (from nltk) (8.1.7)\n",
      "Requirement already satisfied: joblib in c:\\users\\insanazor\\anaconda3\\lib\\site-packages (from nltk) (1.4.2)\n",
      "Requirement already satisfied: regex>=2021.8.3 in c:\\users\\insanazor\\anaconda3\\lib\\site-packages (from nltk) (2024.9.11)\n",
      "Requirement already satisfied: tqdm in c:\\users\\insanazor\\anaconda3\\lib\\site-packages (from nltk) (4.66.5)\n",
      "Requirement already satisfied: colorama in c:\\users\\insanazor\\anaconda3\\lib\\site-packages (from click->nltk) (0.4.6)\n"
     ]
    }
   ],
   "source": [
    "pip install gensim nltk\n"
   ]
  },
  {
   "cell_type": "code",
   "execution_count": 61,
   "id": "e3f23125-6ef2-40fc-8137-5149b8eaec9d",
   "metadata": {},
   "outputs": [
    {
     "name": "stdout",
     "output_type": "stream",
     "text": [
      "Defaulting to user installation because normal site-packages is not writeable\n",
      "Collecting gensim\n",
      "  Using cached gensim-4.3.3-cp312-cp312-win_amd64.whl.metadata (8.2 kB)\n",
      "Collecting nltk\n",
      "  Using cached nltk-3.9.1-py3-none-any.whl.metadata (2.9 kB)\n",
      "Collecting numpy<2.0,>=1.18.5 (from gensim)\n",
      "  Using cached numpy-1.26.4-cp312-cp312-win_amd64.whl.metadata (61 kB)\n",
      "Collecting scipy<1.14.0,>=1.7.0 (from gensim)\n",
      "  Using cached scipy-1.13.1-cp312-cp312-win_amd64.whl.metadata (60 kB)\n",
      "Collecting smart-open>=1.8.1 (from gensim)\n",
      "  Using cached smart_open-7.1.0-py3-none-any.whl.metadata (24 kB)\n",
      "Collecting click (from nltk)\n",
      "  Using cached click-8.1.8-py3-none-any.whl.metadata (2.3 kB)\n",
      "Collecting joblib (from nltk)\n",
      "  Using cached joblib-1.5.0-py3-none-any.whl.metadata (5.6 kB)\n",
      "Collecting regex>=2021.8.3 (from nltk)\n",
      "  Using cached regex-2024.11.6-cp312-cp312-win_amd64.whl.metadata (41 kB)\n",
      "Collecting tqdm (from nltk)\n",
      "  Using cached tqdm-4.67.1-py3-none-any.whl.metadata (57 kB)\n",
      "Collecting wrapt (from smart-open>=1.8.1->gensim)\n",
      "  Using cached wrapt-1.17.2-cp312-cp312-win_amd64.whl.metadata (6.5 kB)\n",
      "Collecting colorama (from click->nltk)\n",
      "  Using cached colorama-0.4.6-py2.py3-none-any.whl.metadata (17 kB)\n",
      "Using cached gensim-4.3.3-cp312-cp312-win_amd64.whl (24.0 MB)\n",
      "Using cached nltk-3.9.1-py3-none-any.whl (1.5 MB)\n",
      "Using cached numpy-1.26.4-cp312-cp312-win_amd64.whl (15.5 MB)\n",
      "Using cached regex-2024.11.6-cp312-cp312-win_amd64.whl (273 kB)\n",
      "Using cached scipy-1.13.1-cp312-cp312-win_amd64.whl (45.9 MB)\n",
      "Using cached smart_open-7.1.0-py3-none-any.whl (61 kB)\n",
      "Using cached click-8.1.8-py3-none-any.whl (98 kB)\n",
      "Using cached joblib-1.5.0-py3-none-any.whl (307 kB)\n",
      "Using cached tqdm-4.67.1-py3-none-any.whl (78 kB)\n",
      "Using cached colorama-0.4.6-py2.py3-none-any.whl (25 kB)\n",
      "Using cached wrapt-1.17.2-cp312-cp312-win_amd64.whl (38 kB)\n",
      "Installing collected packages: wrapt, regex, numpy, joblib, colorama, tqdm, smart-open, scipy, click, nltk, gensim\n",
      "  Attempting uninstall: wrapt\n",
      "    Found existing installation: wrapt 1.17.2\n",
      "    Uninstalling wrapt-1.17.2:\n",
      "      Successfully uninstalled wrapt-1.17.2\n",
      "  Attempting uninstall: regex\n",
      "    Found existing installation: regex 2024.11.6\n",
      "    Uninstalling regex-2024.11.6:\n",
      "      Successfully uninstalled regex-2024.11.6\n",
      "  Attempting uninstall: numpy\n",
      "    Found existing installation: numpy 1.26.4\n",
      "    Uninstalling numpy-1.26.4:\n",
      "      Successfully uninstalled numpy-1.26.4\n",
      "  Attempting uninstall: joblib\n",
      "    Found existing installation: joblib 1.5.0\n",
      "    Uninstalling joblib-1.5.0:\n",
      "      Successfully uninstalled joblib-1.5.0\n",
      "  Attempting uninstall: colorama\n",
      "    Found existing installation: colorama 0.4.6\n",
      "    Uninstalling colorama-0.4.6:\n",
      "      Successfully uninstalled colorama-0.4.6\n",
      "  Attempting uninstall: tqdm\n",
      "    Found existing installation: tqdm 4.67.1\n",
      "    Uninstalling tqdm-4.67.1:\n",
      "      Successfully uninstalled tqdm-4.67.1\n",
      "  Attempting uninstall: smart-open\n",
      "    Found existing installation: smart-open 7.1.0\n",
      "    Uninstalling smart-open-7.1.0:\n",
      "      Successfully uninstalled smart-open-7.1.0\n",
      "  Attempting uninstall: scipy\n",
      "    Found existing installation: scipy 1.13.1\n",
      "    Uninstalling scipy-1.13.1:\n",
      "      Successfully uninstalled scipy-1.13.1\n",
      "  Attempting uninstall: click\n",
      "    Found existing installation: click 8.1.8\n",
      "    Uninstalling click-8.1.8:\n",
      "      Successfully uninstalled click-8.1.8\n",
      "  Attempting uninstall: nltk\n",
      "    Found existing installation: nltk 3.9.1\n",
      "    Uninstalling nltk-3.9.1:\n",
      "      Successfully uninstalled nltk-3.9.1\n",
      "  Attempting uninstall: gensim\n",
      "    Found existing installation: gensim 4.3.3\n",
      "    Uninstalling gensim-4.3.3:\n",
      "      Successfully uninstalled gensim-4.3.3\n",
      "Successfully installed click-8.1.8 colorama-0.4.6 gensim-4.3.3 joblib-1.5.0 nltk-3.9.1 numpy-1.26.4 regex-2024.11.6 scipy-1.13.1 smart-open-7.1.0 tqdm-4.67.1 wrapt-1.17.2\n",
      "Note: you may need to restart the kernel to use updated packages.\n"
     ]
    },
    {
     "name": "stderr",
     "output_type": "stream",
     "text": [
      "  WARNING: Failed to remove contents in a temporary directory 'C:\\Users\\İnsanazor\\AppData\\Roaming\\Python\\Python312\\site-packages\\~egex'.\n",
      "  You can safely remove it manually.\n",
      "  WARNING: Failed to remove contents in a temporary directory 'C:\\Users\\İnsanazor\\AppData\\Roaming\\Python\\Python312\\site-packages\\~umpy.libs'.\n",
      "  You can safely remove it manually.\n",
      "  WARNING: Failed to remove contents in a temporary directory 'C:\\Users\\İnsanazor\\AppData\\Roaming\\Python\\Python312\\site-packages\\~umpy'.\n",
      "  You can safely remove it manually.\n",
      "  WARNING: Failed to remove contents in a temporary directory 'C:\\Users\\İnsanazor\\AppData\\Roaming\\Python\\Python312\\site-packages\\~cipy.libs'.\n",
      "  You can safely remove it manually.\n",
      "  WARNING: Failed to remove contents in a temporary directory 'C:\\Users\\İnsanazor\\AppData\\Roaming\\Python\\Python312\\site-packages\\~cipy'.\n",
      "  You can safely remove it manually.\n"
     ]
    }
   ],
   "source": [
    "pip install --upgrade --force-reinstall gensim nltk\n"
   ]
  },
  {
   "cell_type": "code",
   "execution_count": 89,
   "id": "1028bba2-bf0f-4e99-bf33-e47689bf3daf",
   "metadata": {},
   "outputs": [
    {
     "name": "stdout",
     "output_type": "stream",
     "text": [
      "Training cbow model with window=2 and vector_size=100\n",
      "Training skipgram model with window=2 and vector_size=100\n",
      "Training cbow model with window=4 and vector_size=100\n",
      "Training skipgram model with window=4 and vector_size=100\n",
      "Training cbow model with window=2 and vector_size=300\n",
      "Training skipgram model with window=2 and vector_size=300\n",
      "Training cbow model with window=4 and vector_size=300\n",
      "Training skipgram model with window=4 and vector_size=300\n"
     ]
    },
    {
     "name": "stderr",
     "output_type": "stream",
     "text": [
      "[nltk_data] Downloading package punkt to\n",
      "[nltk_data]     C:\\Users\\İnsanazor\\AppData\\Roaming\\nltk_data...\n",
      "[nltk_data]   Package punkt is already up-to-date!\n"
     ]
    }
   ],
   "source": [
    "# Word2Vec modelini kullanarak, verilen lemmatized ve stemmed metinler üzerinde model eğitimi yapar\n",
    "\n",
    "import gensim\n",
    "from gensim.models import Word2Vec\n",
    "from nltk.tokenize import word_tokenize\n",
    "import nltk\n",
    "\n",
    "nltk.download('punkt')\n",
    "\n",
    "lemmatized_sentences = [[\"apple\", \"banana\", \"fruit\"], [\"orange\", \"apple\", \"fruit\"]]\n",
    "stemmed_sentences = [[\"appl\", \"banan\", \"fruit\"], [\"orang\", \"appl\", \"fruit\"]]\n",
    "\n",
    "# Parametreler\n",
    "parameters = [\n",
    "    {'model_type': 'cbow', 'window': 2, 'vector_size': 100},\n",
    "    {'model_type': 'skipgram', 'window': 2, 'vector_size': 100},\n",
    "    {'model_type': 'cbow', 'window': 4, 'vector_size': 100},\n",
    "    {'model_type': 'skipgram', 'window': 4, 'vector_size': 100},\n",
    "    {'model_type': 'cbow', 'window': 2, 'vector_size': 300},\n",
    "    {'model_type': 'skipgram', 'window': 2, 'vector_size': 300},\n",
    "    {'model_type': 'cbow', 'window': 4, 'vector_size': 300},\n",
    "    {'model_type': 'skipgram', 'window': 4, 'vector_size': 300}\n",
    "]\n",
    "\n",
    "# Model eğitimi ve kaydetme fonksiyonu\n",
    "def train_word2vec_model(sentences, model_type, window, vector_size):\n",
    "    model = Word2Vec(\n",
    "        sentences,\n",
    "        vector_size=vector_size,\n",
    "        window=window,\n",
    "        sg=1 if model_type == 'skipgram' else 0,  # 1: skipgram, 0: cbow\n",
    "        min_count=1,  # Minumum frekans\n",
    "        workers=4  # İşçi sayısı\n",
    "    )\n",
    "    return model\n",
    "\n",
    "# Model eğitimi\n",
    "for param in parameters:\n",
    "    print(f\"Training {param['model_type']} model with window={param['window']} and vector_size={param['vector_size']}\")\n",
    "    \n",
    "    # Lemmatized model\n",
    "    lemmatized_model = train_word2vec_model(lemmatized_sentences, param['model_type'], param['window'], param['vector_size'])\n",
    "    lemmatized_model.save(f\"word2vec_lemmatized_{param['model_type']}_win{param['window']}_dim{param['vector_size']}.model\")\n",
    "    \n",
    "    # Stemmed model\n",
    "    stemmed_model = train_word2vec_model(stemmed_sentences, param['model_type'], param['window'], param['vector_size'])\n",
    "    stemmed_model.save(f\"word2vec_stemmed_{param['model_type']}_win{param['window']}_dim{param['vector_size']}.model\")\n"
   ]
  },
  {
   "cell_type": "code",
   "execution_count": 93,
   "id": "a9408255-a649-451a-9039-ce697da780a2",
   "metadata": {},
   "outputs": [
    {
     "name": "stdout",
     "output_type": "stream",
     "text": [
      "En yakın 5 kelime 'apple' için:\n",
      "banana: 0.06797593832015991\n",
      "fruit: -0.010839177295565605\n",
      "orange: -0.023671656847000122\n"
     ]
    }
   ],
   "source": [
    "# Gensim modelini yükleme\n",
    "from gensim.models import Word2Vec\n",
    "\n",
    "model = Word2Vec.load(\"word2vec_lemmatized_cbow_win2_dim100.model\")\n",
    "\n",
    "word = \"apple\"\n",
    "\n",
    "# Kelimenin en yakın 5 benzer kelimesini bulma\n",
    "similar_words = model.wv.most_similar(word, topn=5)\n",
    "\n",
    "# Çıktıları yazdırma\n",
    "print(f\"En yakın 5 kelime '{word}' için:\")\n",
    "for similar_word, score in similar_words:\n",
    "    print(f\"{similar_word}: {score}\")\n"
   ]
  },
  {
   "cell_type": "code",
   "execution_count": 97,
   "id": "5a5949a0-cd90-466c-8cea-57a2d8a1c911",
   "metadata": {},
   "outputs": [
    {
     "name": "stdout",
     "output_type": "stream",
     "text": [
      "Eğitim Süresi: 0.01 saniye\n"
     ]
    }
   ],
   "source": [
    "import time\n",
    "from gensim.models import Word2Vec\n",
    "\n",
    "# Word2Vec modelini tanımlama \n",
    "model = Word2Vec(sentences=lemmatized_sentences, vector_size=100, window=2, sg=0, min_count=1)\n",
    "\n",
    "# Kelime dağarcığını oluşturma \n",
    "model.build_vocab(lemmatized_sentences)\n",
    "\n",
    "# Eğitim işlemi\n",
    "start_time = time.time()\n",
    "model.train(lemmatized_sentences, total_examples=model.corpus_count, epochs=model.epochs)\n",
    "training_time = time.time() - start_time\n",
    "\n",
    "print(f\"Eğitim Süresi: {training_time:.2f} saniye\")\n"
   ]
  },
  {
   "cell_type": "code",
   "execution_count": 99,
   "id": "fc3290fb-7fd1-4b8a-a73b-ddc332ae44c3",
   "metadata": {},
   "outputs": [
    {
     "name": "stdout",
     "output_type": "stream",
     "text": [
      "Model Boyutu: 0.01 MB\n"
     ]
    }
   ],
   "source": [
    "import os\n",
    "\n",
    "# Modelin dosya boyutunu hesaplama\n",
    "model_size = os.path.getsize(\"word2vec_lemmatized_cbow_win2_dim100.model\") / (1024 * 1024)  # MB cinsinden\n",
    "print(f\"Model Boyutu: {model_size:.2f} MB\")\n"
   ]
  },
  {
   "cell_type": "code",
   "execution_count": 101,
   "id": "81c58bda-ca6f-4d98-a140-86d89870fc39",
   "metadata": {},
   "outputs": [],
   "source": [
    "# Modeli kaydetme\n",
    "model.save(\"word2vec_lemmatized_cbow_win2_dim100.model\")\n"
   ]
  },
  {
   "cell_type": "code",
   "execution_count": 103,
   "id": "a6fa93e4-a7de-44de-b93a-69f7862e777c",
   "metadata": {},
   "outputs": [],
   "source": [
    "from gensim.models import Word2Vec\n",
    "\n",
    "# Modeli yükle\n",
    "model = Word2Vec.load(\"word2vec_lemmatized_cbow_win2_dim100.model\")\n"
   ]
  },
  {
   "cell_type": "code",
   "execution_count": 105,
   "id": "d63cb690-7fb3-430e-b063-abd1209076e0",
   "metadata": {},
   "outputs": [
    {
     "name": "stdout",
     "output_type": "stream",
     "text": [
      "['fruit', 'apple', 'orange', 'banana']\n"
     ]
    }
   ],
   "source": [
    "# Kelime dağarcığındaki ilk 5 kelimeyi yazdır\n",
    "print(model.wv.index_to_key[:5])\n"
   ]
  },
  {
   "cell_type": "code",
   "execution_count": 107,
   "id": "00874a2d-a10c-41ab-ac21-85e2d5b08d13",
   "metadata": {},
   "outputs": [
    {
     "name": "stdout",
     "output_type": "stream",
     "text": [
      "Toplam kelime sayısı: 4\n",
      "['fruit', 'apple', 'orange', 'banana']\n"
     ]
    }
   ],
   "source": [
    "# Kelime dağarcığında kaç kelime var\n",
    "print(f\"Toplam kelime sayısı: {len(model.wv.index_to_key)}\")\n",
    "\n",
    "# İlk 50 kelimeyi yazdıralım\n",
    "print(model.wv.index_to_key[:50])\n"
   ]
  },
  {
   "cell_type": "code",
   "execution_count": null,
   "id": "0b955453-a16b-4d19-ab3a-6b248c26ceda",
   "metadata": {},
   "outputs": [],
   "source": []
  },
  {
   "cell_type": "code",
   "execution_count": null,
   "id": "b5ac35ce-7c3f-488c-aa41-371d0300317b",
   "metadata": {},
   "outputs": [],
   "source": []
  }
 ],
 "metadata": {
  "kernelspec": {
   "display_name": "Python 3 (ipykernel)",
   "language": "python",
   "name": "python3"
  },
  "language_info": {
   "codemirror_mode": {
    "name": "ipython",
    "version": 3
   },
   "file_extension": ".py",
   "mimetype": "text/x-python",
   "name": "python",
   "nbconvert_exporter": "python",
   "pygments_lexer": "ipython3",
   "version": "3.12.7"
  }
 },
 "nbformat": 4,
 "nbformat_minor": 5
}
